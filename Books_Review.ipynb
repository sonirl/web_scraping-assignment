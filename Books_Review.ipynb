{
 "cells": [
  {
   "cell_type": "markdown",
   "metadata": {},
   "source": [
    "# Book Review"
   ]
  },
  {
   "cell_type": "code",
   "execution_count": 1,
   "metadata": {},
   "outputs": [],
   "source": [
    "import pandas as pd\n",
    "import html5lib\n",
    "from bs4 import BeautifulSoup\n",
    "import requests\n",
    "import re"
   ]
  },
  {
   "cell_type": "code",
   "execution_count": 60,
   "metadata": {},
   "outputs": [],
   "source": [
    "Book_Name = []\n",
    "Author = []\n",
    "Genre = []\n",
    "\n",
    "def Books(url):\n",
    "    response = requests.get(url)\n",
    "    soup = BeautifulSoup(response.content, 'html.parser')\n",
    "    book_name = soup.find_all(\"h4\", class_=\"italic\")\n",
    "    for i in book_name:\n",
    "        Book_Name.append(i.get_text().strip().replace('★ ',''))\n",
    "    author_name = soup.find_all('p',class_='sans bold')\n",
    "    for i in author_name:\n",
    "        Author.append(i.get_text().replace('\\n',\"\"))\n",
    "    genre = soup.find_all('p',class_='genre-links hidden-phone')\n",
    "    for i in genre:\n",
    "        Genre.append(i.get_text().strip().replace('\\n','').replace('/',','))"
   ]
  },
  {
   "cell_type": "code",
   "execution_count": 61,
   "metadata": {},
   "outputs": [],
   "source": [
    "Books('https://bookpage.com/reviews')"
   ]
  },
  {
   "cell_type": "code",
   "execution_count": 62,
   "metadata": {},
   "outputs": [
    {
     "data": {
      "text/html": [
       "<div>\n",
       "<style scoped>\n",
       "    .dataframe tbody tr th:only-of-type {\n",
       "        vertical-align: middle;\n",
       "    }\n",
       "\n",
       "    .dataframe tbody tr th {\n",
       "        vertical-align: top;\n",
       "    }\n",
       "\n",
       "    .dataframe thead th {\n",
       "        text-align: right;\n",
       "    }\n",
       "</style>\n",
       "<table border=\"1\" class=\"dataframe\">\n",
       "  <thead>\n",
       "    <tr style=\"text-align: right;\">\n",
       "      <th></th>\n",
       "      <th>Name</th>\n",
       "      <th>Author</th>\n",
       "      <th>Genre</th>\n",
       "    </tr>\n",
       "  </thead>\n",
       "  <tbody>\n",
       "    <tr>\n",
       "      <th>0</th>\n",
       "      <td>The Bad Muslim Discount</td>\n",
       "      <td>Syed M. Masood</td>\n",
       "      <td>Fiction , Coming of Age</td>\n",
       "    </tr>\n",
       "    <tr>\n",
       "      <th>1</th>\n",
       "      <td>Of a Feather</td>\n",
       "      <td>Dayna Lorentz</td>\n",
       "      <td>Children's , Middle Grade</td>\n",
       "    </tr>\n",
       "    <tr>\n",
       "      <th>2</th>\n",
       "      <td>Four Lost Cities</td>\n",
       "      <td>Annalee Newitz</td>\n",
       "      <td>Nonfiction , History , Science</td>\n",
       "    </tr>\n",
       "    <tr>\n",
       "      <th>3</th>\n",
       "      <td>Mike Nichols</td>\n",
       "      <td>Mark Harris</td>\n",
       "      <td>Nonfiction , Biography , Arts &amp; Culture</td>\n",
       "    </tr>\n",
       "    <tr>\n",
       "      <th>4</th>\n",
       "      <td>When Harry Met Minnie</td>\n",
       "      <td>Martha Teichner</td>\n",
       "      <td>Nonfiction , Biography &amp; Memoir , Memoir</td>\n",
       "    </tr>\n",
       "    <tr>\n",
       "      <th>5</th>\n",
       "      <td>Good Neighbors</td>\n",
       "      <td>Sarah Langan</td>\n",
       "      <td>Fiction , Popular Fiction</td>\n",
       "    </tr>\n",
       "    <tr>\n",
       "      <th>6</th>\n",
       "      <td>Made in China</td>\n",
       "      <td>Amelia Pang</td>\n",
       "      <td>Nonfiction , Social Science , Business</td>\n",
       "    </tr>\n",
       "    <tr>\n",
       "      <th>7</th>\n",
       "      <td>Hitler and Stalin</td>\n",
       "      <td>Laurence Rees</td>\n",
       "      <td>Nonfiction , History , European History</td>\n",
       "    </tr>\n",
       "    <tr>\n",
       "      <th>8</th>\n",
       "      <td>The Other Mothers</td>\n",
       "      <td>Jennifer Berney</td>\n",
       "      <td>Nonfiction , Biography &amp; Memoir , Memoir</td>\n",
       "    </tr>\n",
       "    <tr>\n",
       "      <th>9</th>\n",
       "      <td>Milo Imagines the World</td>\n",
       "      <td>Matt de la Peña, Christian Robinson</td>\n",
       "      <td>Children's , Children's Picture Book</td>\n",
       "    </tr>\n",
       "  </tbody>\n",
       "</table>\n",
       "</div>"
      ],
      "text/plain": [
       "                      Name                               Author  \\\n",
       "0  The Bad Muslim Discount                       Syed M. Masood   \n",
       "1             Of a Feather                        Dayna Lorentz   \n",
       "2         Four Lost Cities                       Annalee Newitz   \n",
       "3             Mike Nichols                          Mark Harris   \n",
       "4    When Harry Met Minnie                      Martha Teichner   \n",
       "5           Good Neighbors                         Sarah Langan   \n",
       "6            Made in China                          Amelia Pang   \n",
       "7        Hitler and Stalin                        Laurence Rees   \n",
       "8        The Other Mothers                      Jennifer Berney   \n",
       "9  Milo Imagines the World  Matt de la Peña, Christian Robinson   \n",
       "\n",
       "                                      Genre  \n",
       "0                   Fiction , Coming of Age  \n",
       "1                 Children's , Middle Grade  \n",
       "2            Nonfiction , History , Science  \n",
       "3   Nonfiction , Biography , Arts & Culture  \n",
       "4  Nonfiction , Biography & Memoir , Memoir  \n",
       "5                 Fiction , Popular Fiction  \n",
       "6    Nonfiction , Social Science , Business  \n",
       "7   Nonfiction , History , European History  \n",
       "8  Nonfiction , Biography & Memoir , Memoir  \n",
       "9      Children's , Children's Picture Book  "
      ]
     },
     "execution_count": 62,
     "metadata": {},
     "output_type": "execute_result"
    }
   ],
   "source": [
    "Book = pd.DataFrame({})\n",
    "Book['Name'] = Book_Name\n",
    "Book['Author'] = Author\n",
    "Book['Genre'] = Genre\n",
    "Book"
   ]
  },
  {
   "cell_type": "code",
   "execution_count": 63,
   "metadata": {},
   "outputs": [],
   "source": [
    "Book.to_csv('Book.csv')"
   ]
  },
  {
   "cell_type": "code",
   "execution_count": null,
   "metadata": {},
   "outputs": [],
   "source": []
  },
  {
   "cell_type": "code",
   "execution_count": null,
   "metadata": {},
   "outputs": [],
   "source": []
  },
  {
   "cell_type": "code",
   "execution_count": null,
   "metadata": {},
   "outputs": [],
   "source": []
  },
  {
   "cell_type": "code",
   "execution_count": null,
   "metadata": {},
   "outputs": [],
   "source": []
  },
  {
   "cell_type": "code",
   "execution_count": null,
   "metadata": {},
   "outputs": [],
   "source": []
  },
  {
   "cell_type": "code",
   "execution_count": 8,
   "metadata": {},
   "outputs": [
    {
     "data": {
      "text/plain": [
       "['\\nHow the One-Armed Sister Sweeps Her House\\n',\n",
       " '\\nSuper Host\\n',\n",
       " '\\nThe Paris Library\\n',\n",
       " '\\nAnonymouse\\n',\n",
       " '\\nThe Ratline\\n',\n",
       " '\\nThe Bad Muslim Discount\\n',\n",
       " '\\nOf a Feather\\n',\n",
       " '\\nFour Lost Cities\\n',\n",
       " '\\n ★ Mike Nichols\\n',\n",
       " '\\n ★ When Harry Met Minnie\\n']"
      ]
     },
     "execution_count": 8,
     "metadata": {},
     "output_type": "execute_result"
    }
   ],
   "source": [
    "response=requests.get('https://bookpage.com/reviews')\n",
    "soup=BeautifulSoup(response.content,'html.parser')\n",
    "Name=[]\n",
    "book_name=soup.find_all('h4', class_='italic')\n",
    "for i in book_name:\n",
    "    Name.append(i.get_text())\n",
    "Name"
   ]
  },
  {
   "cell_type": "code",
   "execution_count": null,
   "metadata": {},
   "outputs": [],
   "source": []
  }
 ],
 "metadata": {
  "kernelspec": {
   "display_name": "Python 3",
   "language": "python",
   "name": "python3"
  },
  "language_info": {
   "codemirror_mode": {
    "name": "ipython",
    "version": 3
   },
   "file_extension": ".py",
   "mimetype": "text/x-python",
   "name": "python",
   "nbconvert_exporter": "python",
   "pygments_lexer": "ipython3",
   "version": "3.8.5"
  }
 },
 "nbformat": 4,
 "nbformat_minor": 4
}
